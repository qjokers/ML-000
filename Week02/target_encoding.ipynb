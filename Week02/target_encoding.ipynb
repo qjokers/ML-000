{
 "cells": [
  {
   "cell_type": "code",
   "execution_count": 103,
   "metadata": {},
   "outputs": [],
   "source": [
    "import numpy as np\n",
    "import pandas as pd"
   ]
  },
  {
   "cell_type": "markdown",
   "metadata": {},
   "source": [
    "# 生成数据"
   ]
  },
  {
   "cell_type": "code",
   "execution_count": 104,
   "metadata": {},
   "outputs": [],
   "source": [
    "y = np.random.randint(2, size=(5000, 1))\n",
    "x = np.random.randint(10, size=(5000, 1))\n",
    "data = pd.DataFrame(np.concatenate([y, x], axis=1), columns=['y', 'x'])"
   ]
  },
  {
   "cell_type": "markdown",
   "metadata": {},
   "source": [
    "## version_1"
   ]
  },
  {
   "cell_type": "code",
   "execution_count": 3,
   "metadata": {},
   "outputs": [],
   "source": [
    "def target_mean_v1(data, y_name, x_name):\n",
    "    result = np.zeros(data.shape[0])\n",
    "    for i in range(data.shape[0]):\n",
    "        groupby_result = data[data.index != i].groupby([x_name], as_index=False).agg(['mean', 'count'])\n",
    "        result[i] = groupby_result.loc[groupby_result.index == data.loc[i, x_name], (y_name, 'mean')]\n",
    "    return result"
   ]
  },
  {
   "cell_type": "markdown",
   "metadata": {},
   "source": [
    "### 测试"
   ]
  },
  {
   "cell_type": "code",
   "execution_count": 88,
   "metadata": {},
   "outputs": [
    {
     "name": "stdout",
     "output_type": "stream",
     "text": [
      "23.6 s ± 25.3 ms per loop (mean ± std. dev. of 7 runs, 1 loop each)\n"
     ]
    }
   ],
   "source": [
    "%%timeit \n",
    "target_mean_v1(data, 'y', 'x')"
   ]
  },
  {
   "cell_type": "markdown",
   "metadata": {},
   "source": [
    "## version_2"
   ]
  },
  {
   "cell_type": "code",
   "execution_count": 5,
   "metadata": {},
   "outputs": [],
   "source": [
    "def target_mean_v2(data, y_name, x_name):\n",
    "    result = np.zeros(data.shape[0])\n",
    "    value_dict = dict()\n",
    "    count_dict = dict()\n",
    "    for i in range(data.shape[0]):\n",
    "        if data.loc[i, x_name] not in value_dict.keys():\n",
    "            value_dict[data.loc[i, x_name]] = data.loc[i, y_name]\n",
    "            count_dict[data.loc[i, x_name]] = 1\n",
    "        else:\n",
    "            value_dict[data.loc[i, x_name]] += data.loc[i, y_name]\n",
    "            count_dict[data.loc[i, x_name]] += 1\n",
    "    for i in range(data.shape[0]):\n",
    "        result[i] = (value_dict[data.loc[i, x_name]] - data.loc[i, y_name]) / (count_dict[data.loc[i, x_name]] - 1)\n",
    "    return result"
   ]
  },
  {
   "cell_type": "markdown",
   "metadata": {},
   "source": [
    "### 测试"
   ]
  },
  {
   "cell_type": "code",
   "execution_count": 92,
   "metadata": {},
   "outputs": [
    {
     "name": "stdout",
     "output_type": "stream",
     "text": [
      "302 ms ± 822 µs per loop (mean ± std. dev. of 7 runs, 1 loop each)\n"
     ]
    }
   ],
   "source": [
    "%%timeit \n",
    "target_mean_v2(data, 'y', 'x')"
   ]
  },
  {
   "cell_type": "code",
   "execution_count": 96,
   "metadata": {},
   "outputs": [
    {
     "name": "stdout",
     "output_type": "stream",
     "text": [
      "0.0\n"
     ]
    }
   ],
   "source": [
    "result1 = target_mean_v1(data, 'y', 'x')\n",
    "result2 = target_mean_v2(data, 'y', 'x')\n",
    "is_eq = np.linalg.norm(result2 - result1)\n",
    "print(is_eq)"
   ]
  },
  {
   "cell_type": "markdown",
   "metadata": {},
   "source": [
    "## version_4 群内同学的方法"
   ]
  },
  {
   "cell_type": "code",
   "execution_count": 9,
   "metadata": {},
   "outputs": [],
   "source": [
    "from collections import defaultdict\n",
    "def target_mean_v4(data, y_name, x_name):\n",
    "    result = np.zeros(data.shape[0])\n",
    "    X = data[x_name].values\n",
    "    Y = data[y_name].values\n",
    "    value_dict = defaultdict(lambda: 0)\n",
    "    count_dict = defaultdict(lambda: 0)\n",
    "    for x, y in zip(X, Y):\n",
    "        value_dict[x] += y\n",
    "        count_dict[x] += 1\n",
    "    result = [(value_dict[x] - y) / (count_dict[x] - 1) for x, y in zip(X, Y)]\n",
    "    return result"
   ]
  },
  {
   "cell_type": "markdown",
   "metadata": {},
   "source": [
    "### 测试"
   ]
  },
  {
   "cell_type": "code",
   "execution_count": 10,
   "metadata": {},
   "outputs": [
    {
     "name": "stdout",
     "output_type": "stream",
     "text": [
      "7.66 ms ± 9.38 µs per loop (mean ± std. dev. of 7 runs, 100 loops each)\n"
     ]
    }
   ],
   "source": [
    "%%timeit \n",
    "target_mean_v4(data, 'y', 'x')"
   ]
  },
  {
   "cell_type": "code",
   "execution_count": 98,
   "metadata": {},
   "outputs": [
    {
     "name": "stdout",
     "output_type": "stream",
     "text": [
      "0.0\n"
     ]
    }
   ],
   "source": [
    "result4 = target_mean_v4(data, 'y', 'x')\n",
    "is_eq = np.linalg.norm(result4 - result1)\n",
    "print(is_eq)"
   ]
  },
  {
   "cell_type": "markdown",
   "metadata": {},
   "source": [
    "## version_5 使用cython + unordered_map"
   ]
  },
  {
   "cell_type": "code",
   "execution_count": 11,
   "metadata": {},
   "outputs": [],
   "source": [
    "%load_ext cython"
   ]
  },
  {
   "cell_type": "code",
   "execution_count": 56,
   "metadata": {},
   "outputs": [],
   "source": [
    "%%cython --cplus \n",
    "\n",
    "import numpy as np\n",
    "cimport numpy as cnp\n",
    "from libcpp.unordered_map cimport unordered_map\n",
    "\n",
    "# 最好每个都加上类型\n",
    "cpdef cnp.ndarray[double] target_mean_v5(cnp.ndarray[long,ndim=2] data):\n",
    "    # get row numbers\n",
    "    cdef int n = data.shape[0]\n",
    "    # result to return \n",
    "    cdef cnp.ndarray[double] result = np.zeros(n,dtype=np.double)\n",
    "    # get y and x \n",
    "    cdef cnp.ndarray[long] y = data[:,0]\n",
    "    cdef cnp.ndarray[long] x = data[:,1]\n",
    "    # define map\n",
    "    cdef unordered_map[long, long] value_map\n",
    "    cdef unordered_map[long, long] count_map\n",
    "    \n",
    "    for i in range(n):\n",
    "        # x[i] y[i]\n",
    "        if value_map.find(x[i]) == value_map.end():\n",
    "            value_map[x[i]] = y[i]\n",
    "            count_map[x[i]] = 1\n",
    "        else:\n",
    "            value_map[x[i]] += y[i]\n",
    "            count_map[x[i]] += 1\n",
    "    for i in range(n):\n",
    "        result[i] = (value_map[x[i]] - y[i]) / (count_map[x[i]] - 1)\n",
    "    return result"
   ]
  },
  {
   "cell_type": "markdown",
   "metadata": {},
   "source": [
    "### 测试"
   ]
  },
  {
   "cell_type": "code",
   "execution_count": 57,
   "metadata": {},
   "outputs": [],
   "source": [
    "data2 = data.values.astype(np.int_)"
   ]
  },
  {
   "cell_type": "code",
   "execution_count": 58,
   "metadata": {},
   "outputs": [
    {
     "name": "stdout",
     "output_type": "stream",
     "text": [
      "527 µs ± 145 ns per loop (mean ± std. dev. of 7 runs, 1000 loops each)\n"
     ]
    }
   ],
   "source": [
    "%%timeit\n",
    "target_mean_v5(data2)"
   ]
  },
  {
   "cell_type": "code",
   "execution_count": 100,
   "metadata": {},
   "outputs": [
    {
     "name": "stdout",
     "output_type": "stream",
     "text": [
      "0.0\n"
     ]
    }
   ],
   "source": [
    "result5 = target_mean_v5(data2)\n",
    "is_eq = np.linalg.norm(result5 - result1)\n",
    "print(is_eq)"
   ]
  },
  {
   "cell_type": "markdown",
   "metadata": {},
   "source": [
    "## version_6 使用cython + numpy"
   ]
  },
  {
   "cell_type": "code",
   "execution_count": 81,
   "metadata": {},
   "outputs": [],
   "source": [
    "%%cython\n",
    "\n",
    "import numpy as np\n",
    "cimport numpy as cnp\n",
    "\n",
    "# 最好每个都加上类型\n",
    "cpdef cnp.ndarray[double] target_mean_v6(cnp.ndarray[long,ndim=2] data):\n",
    "    # get row numbers\n",
    "    cdef int n = data.shape[0]\n",
    "    # result to return \n",
    "    cdef cnp.ndarray[double] result = np.zeros(n,dtype=np.double)\n",
    "    # get y and x \n",
    "    cdef cnp.ndarray[long] y = data[:,0]\n",
    "    cdef cnp.ndarray[long] x = data[:,1]\n",
    "    # define map\n",
    "    cdef cnp.ndarray[long] value_map = np.zeros(n).astype(np.int_)\n",
    "    cdef cnp.ndarray[long] count_map = np.zeros(n).astype(np.int_)\n",
    "    \n",
    "    for i in range(n):\n",
    "        value_map[x[i]] += y[i]\n",
    "        count_map[x[i]] += 1\n",
    "    for i in range(n):\n",
    "        result[i] = (value_map[x[i]] - y[i]) / (count_map[x[i]] - 1)\n",
    "    return result"
   ]
  },
  {
   "cell_type": "markdown",
   "metadata": {},
   "source": [
    "### 测试"
   ]
  },
  {
   "cell_type": "code",
   "execution_count": 82,
   "metadata": {},
   "outputs": [
    {
     "name": "stdout",
     "output_type": "stream",
     "text": [
      "66.4 µs ± 66.2 ns per loop (mean ± std. dev. of 7 runs, 10000 loops each)\n"
     ]
    }
   ],
   "source": [
    "%%timeit\n",
    "target_mean_v6(data2)"
   ]
  },
  {
   "cell_type": "code",
   "execution_count": 101,
   "metadata": {},
   "outputs": [
    {
     "name": "stdout",
     "output_type": "stream",
     "text": [
      "0.0\n"
     ]
    }
   ],
   "source": [
    "result6 = target_mean_v6(data2)\n",
    "is_eq = np.linalg.norm(result6 - result1)\n",
    "print(is_eq)"
   ]
  },
  {
   "cell_type": "markdown",
   "metadata": {},
   "source": [
    "## version_7 使用cython + 并行"
   ]
  },
  {
   "cell_type": "code",
   "execution_count": 86,
   "metadata": {},
   "outputs": [],
   "source": [
    "%%cython\n",
    "\n",
    "import numpy as np\n",
    "cimport numpy as cnp\n",
    "cimport cython\n",
    "from cython.parallel import prange\n",
    "\n",
    "# 最好每个都加上类型\n",
    "# 报错: Indexing Python object not allowed without gil\n",
    "\n",
    "# 不添加装饰器会出现警告 Use boundscheck(False) for faster access\n",
    "@cython.boundscheck(False)\n",
    "@cython.wraparound(False)\n",
    "cpdef cnp.ndarray[double] target_mean_v7(cnp.ndarray[long,ndim=2] data):\n",
    "    # get row numbers\n",
    "    cdef int n = data.shape[0]\n",
    "    # result to return \n",
    "    cdef cnp.ndarray[double] result = np.zeros(n,dtype=np.double)\n",
    "    # get y and x \n",
    "    cdef cnp.ndarray[long] y = data[:,0]\n",
    "    cdef cnp.ndarray[long] x = data[:,1]\n",
    "    # define map\n",
    "    cdef cnp.ndarray[long] value_map = np.zeros(n).astype(np.int_)\n",
    "    cdef cnp.ndarray[long] count_map = np.zeros(n).astype(np.int_)\n",
    "    \n",
    "    cdef int i\n",
    "    for i in prange(n, nogil=True):\n",
    "        value_map[x[i]] += y[i]\n",
    "        count_map[x[i]] += 1\n",
    "    for i in prange(n, nogil=True):\n",
    "        result[i] = (value_map[x[i]] - y[i]) / (count_map[x[i]] - 1)\n",
    "    return result"
   ]
  },
  {
   "cell_type": "markdown",
   "metadata": {},
   "source": [
    "### 测试"
   ]
  },
  {
   "cell_type": "code",
   "execution_count": 87,
   "metadata": {},
   "outputs": [
    {
     "name": "stdout",
     "output_type": "stream",
     "text": [
      "58.6 µs ± 43 ns per loop (mean ± std. dev. of 7 runs, 10000 loops each)\n"
     ]
    }
   ],
   "source": [
    "%%timeit\n",
    "target_mean_v7(data2)"
   ]
  },
  {
   "cell_type": "code",
   "execution_count": 102,
   "metadata": {},
   "outputs": [
    {
     "name": "stdout",
     "output_type": "stream",
     "text": [
      "0.0\n"
     ]
    }
   ],
   "source": [
    "result7 = target_mean_v7(data2)\n",
    "is_eq = np.linalg.norm(result7 - result1)\n",
    "print(is_eq)"
   ]
  },
  {
   "cell_type": "code",
   "execution_count": null,
   "metadata": {},
   "outputs": [],
   "source": []
  }
 ],
 "metadata": {
  "kernelspec": {
   "display_name": "Python 3",
   "language": "python",
   "name": "python3"
  },
  "language_info": {
   "codemirror_mode": {
    "name": "ipython",
    "version": 3
   },
   "file_extension": ".py",
   "mimetype": "text/x-python",
   "name": "python",
   "nbconvert_exporter": "python",
   "pygments_lexer": "ipython3",
   "version": "3.7.9"
  }
 },
 "nbformat": 4,
 "nbformat_minor": 4
}
